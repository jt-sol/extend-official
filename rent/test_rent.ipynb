{
 "cells": [
  {
   "cell_type": "code",
   "execution_count": 139,
   "metadata": {},
   "outputs": [],
   "source": [
    "from solana.rpc.async_api import AsyncClient\n",
    "from solana.keypair import Keypair\n",
    "from solana.publickey import PublicKey\n",
    "from solana.transaction import Transaction, TransactionInstruction, AccountMeta\n",
    "from spl.token.constants import TOKEN_PROGRAM_ID, ASSOCIATED_TOKEN_PROGRAM_ID\n",
    "from solana.rpc.types import TxOpts\n",
    "from spl.token.instructions import get_associated_token_address\n",
    "\n",
    "import base64, base58\n",
    "import struct\n",
    "import time\n",
    "import pandas as pd\n",
    "import asyncio"
   ]
  },
  {
   "cell_type": "code",
   "execution_count": 140,
   "metadata": {},
   "outputs": [],
   "source": [
    "on_devnet = True"
   ]
  },
  {
   "cell_type": "code",
   "execution_count": 141,
   "metadata": {},
   "outputs": [],
   "source": [
    "SYS_PROGRAM_PUBKEY = PublicKey(\"11111111111111111111111111111111\")\n",
    "TOKEN_METADATA_PROGRAM_ID = PublicKey(\"metaqbxxUerdq28cj1RbAWkYQm3ybzjb6a8bt518x1s\")\n",
    "RPC_TOKEN = \"627c3aed6df38ade602e4623af92\"\n",
    "RPC_mainnet = f\"https://extend.mainnet.rpcpool.com/{RPC_TOKEN}\"\n",
    "RPC_devnet = f\"https://extend.devnet.rpcpool.com/{RPC_TOKEN}\"\n",
    "\n",
    "PIXEL_OWNER = \"MNTRTGTvzmZUDMYuiPg62rY34jHuThGa8jdyTTx58mC\"\n",
    "\n",
    "if on_devnet:\n",
    "    solana_client = AsyncClient(RPC_devnet)\n",
    "else:\n",
    "    solana_client = AsyncClient(RPC_mainnet)"
   ]
  },
  {
   "cell_type": "code",
   "execution_count": 142,
   "metadata": {},
   "outputs": [],
   "source": [
    "SPACE_PROGRAM_ID = PublicKey(\"XSPCZghPXkWTWpvrfQ34Szpx3rwmUjsxebRFf5ckbMD\")\n",
    "COLOR_PROGRAM_ID = PublicKey(\"XCLReS3yMKtcHWJxW8HX8yr6YmY8rwTaS5NUmVk21mM\")\n",
    "RENT_PROGRAM_ID = PublicKey(\"8xNhq5mgaZNExbkNk9UmPUHGDQb8PsLDdyYZLd1BHvjd\")\n",
    "\n",
    "BASE = PublicKey(\"XBSEZzB7ojaKgXqfCSpNbPLnuMGk3JVtSKYjXYqg7Pn\")\n",
    "\n",
    "NEIGHBORHOOD_FRAME_BASE_SEED = b\"neighborhood_frame_base\"\n",
    "NEIGHBORHOOD_FRAME_POINTER_SEED = b\"neighborhood_frame_key\"\n",
    "NEIGHBORHOOD_METADATA_SEED = b\"neighborhood_metadata\"\n",
    "SELL_DELEGATE_SEED = b\"sell_delegate\"\n",
    "SPACE_METADATA_SEED = b\"space_metadata\"\n",
    "RENT_ACCOUNT_SEED = b\"rent_account\"\n",
    "\n",
    "sk = list(pd.read_json(f\"~/.config/solana/{PIXEL_OWNER}.json\").values.flatten())\n",
    "auth = Keypair.from_secret_key(bytes(sk))\n",
    "\n",
    "NBDHOOD_SIZE = 200"
   ]
  },
  {
   "cell_type": "code",
   "execution_count": null,
   "metadata": {},
   "outputs": [],
   "source": []
  },
  {
   "cell_type": "markdown",
   "metadata": {},
   "source": [
    "## Test SetRent ix"
   ]
  },
  {
   "cell_type": "code",
   "execution_count": 144,
   "metadata": {},
   "outputs": [],
   "source": [
    "async def set_rent(space_x, space_y, price, min_duration, max_duration, max_ts, create):\n",
    "    tx = Transaction()\n",
    "\n",
    "    rent_acc = PublicKey.find_program_address([\n",
    "                bytes(BASE),\n",
    "                RENT_ACCOUNT_SEED,\n",
    "                struct.pack(\"<q\",space_x),\n",
    "                struct.pack(\"<q\",space_y),\n",
    "              ], program_id = RENT_PROGRAM_ID)[0]\n",
    "\n",
    "    space_md = PublicKey.find_program_address([\n",
    "                bytes(BASE),\n",
    "                SPACE_METADATA_SEED,\n",
    "                struct.pack(\"<q\",space_x),\n",
    "                struct.pack(\"<q\",space_y),\n",
    "            ], program_id = SPACE_PROGRAM_ID)[0]\n",
    "\n",
    "    data = await solana_client.get_account_info(space_md)\n",
    "    mint = PublicKey(base64.b64decode(data['result']['value']['data'][0])[1:33])\n",
    "\n",
    "    ata_acc = get_associated_token_address(auth.public_key, mint)\n",
    "\n",
    "    keys = [\n",
    "            AccountMeta(BASE,False,False),\n",
    "            AccountMeta(rent_acc,False,True),\n",
    "            AccountMeta(auth.public_key,True,False),\n",
    "            AccountMeta(ata_acc,False,False),\n",
    "            AccountMeta(space_md,False,False),\n",
    "            AccountMeta(SYS_PROGRAM_PUBKEY,False,False),\n",
    "            ]\n",
    "\n",
    "    data = struct.pack(\"<BqqQQQQ?\", 0, space_x, space_y, price, min_duration, max_duration, max_ts, create)\n",
    "   \n",
    "    tx.add(\n",
    "        TransactionInstruction(\n",
    "            keys = keys,\n",
    "            data = data,\n",
    "            program_id = RENT_PROGRAM_ID\n",
    "        )\n",
    "    )\n",
    "\n",
    "    signs = [auth]\n",
    "    txopts = TxOpts(skip_confirmation=False, skip_preflight=True)\n",
    "\n",
    "    outp = (await solana_client.send_transaction(tx, *signs, opts=txopts))\n",
    "\n",
    "    rent_acc_data = await solana_client.get_account_info(rent_acc)\n",
    "    rent_acc_data_bytes = base64.b64decode(rent_acc_data['result']['value']['data'][0])\n",
    "\n",
    "    price_state = struct.unpack(\"<Q\",rent_acc_data_bytes[1:9])\n",
    "    min_duration_state = struct.unpack(\"<Q\",rent_acc_data_bytes[9:17])\n",
    "    max_duration_state = struct.unpack(\"<Q\",rent_acc_data_bytes[17:25])\n",
    "    max_ts_state = struct.unpack(\"<Q\",rent_acc_data_bytes[25:33])\n",
    "    lister_state = PublicKey(rent_acc_data_bytes[33:65])\n",
    "    rent_end_state = struct.unpack(\"<Q\",rent_acc_data_bytes[65:73])\n",
    "    renter_state = PublicKey(rent_acc_data_bytes[73:105])\n",
    "\n",
    "    print(price, price_state)\n",
    "    print(min_duration, min_duration_state)\n",
    "    print(max_duration, max_duration_state)\n",
    "    print(max_ts, max_ts_state)\n",
    "    print(lister_state)\n",
    "    print(rent_end_state)\n",
    "    print(renter_state)\n",
    "\n",
    "    return outp, rent_acc_data_bytes"
   ]
  },
  {
   "cell_type": "markdown",
   "metadata": {},
   "source": [
    "### List (1,1)"
   ]
  },
  {
   "cell_type": "code",
   "execution_count": 165,
   "metadata": {},
   "outputs": [
    {
     "name": "stdout",
     "output_type": "stream",
     "text": [
      "1000 (1000,)\n",
      "31000000 (31000000,)\n",
      "46500000 (46500000,)\n",
      "1705129511 (1705129511,)\n",
      "MNTRTGTvzmZUDMYuiPg62rY34jHuThGa8jdyTTx58mC\n",
      "(0,)\n",
      "11111111111111111111111111111111\n"
     ]
    }
   ],
   "source": [
    "space_x = 1\n",
    "space_y = 1\n",
    "price = 1000\n",
    "min_duration = 31000000\n",
    "max_duration = int(31000000*1.5)\n",
    "max_ts = int(time.time() + 2*min_duration)\n",
    "create = True\n",
    "\n",
    "outp, data = await set_rent(space_x, space_y, price, min_duration, max_duration, max_ts, create)"
   ]
  },
  {
   "cell_type": "markdown",
   "metadata": {},
   "source": [
    "### Delist (1,1)"
   ]
  },
  {
   "cell_type": "code",
   "execution_count": 166,
   "metadata": {},
   "outputs": [
    {
     "name": "stdout",
     "output_type": "stream",
     "text": [
      "1000 (0,)\n",
      "31000000 (0,)\n",
      "46500000 (0,)\n",
      "1705129532 (0,)\n",
      "MNTRTGTvzmZUDMYuiPg62rY34jHuThGa8jdyTTx58mC\n",
      "(0,)\n",
      "11111111111111111111111111111111\n"
     ]
    }
   ],
   "source": [
    "space_x = 1\n",
    "space_y = 1\n",
    "price = 1000\n",
    "min_duration = 31000000\n",
    "max_duration = int(31000000*1.5)\n",
    "max_ts = int(time.time() + 2*min_duration)\n",
    "create = False\n",
    "\n",
    "outp, data = await set_rent(space_x, space_y, price, min_duration, max_duration, max_ts, create)"
   ]
  },
  {
   "cell_type": "markdown",
   "metadata": {},
   "source": [
    "### Delist (1,0)"
   ]
  },
  {
   "cell_type": "code",
   "execution_count": 158,
   "metadata": {},
   "outputs": [
    {
     "name": "stdout",
     "output_type": "stream",
     "text": [
      "1000 (0,)\n",
      "31000000 (0,)\n",
      "46500000 (0,)\n",
      "1705129281 (0,)\n",
      "11111111111111111111111111111111\n",
      "(0,)\n",
      "11111111111111111111111111111111\n"
     ]
    }
   ],
   "source": [
    "space_x = 1\n",
    "space_y = 0\n",
    "price = 1000\n",
    "min_duration = 31000000\n",
    "max_duration = int(31000000*1.5)\n",
    "max_ts = int(time.time() + 2*min_duration)\n",
    "create = False\n",
    "\n",
    "outp, data = await set_rent(space_x, space_y, price, min_duration, max_duration, max_ts, create)"
   ]
  },
  {
   "cell_type": "markdown",
   "metadata": {},
   "source": [
    "### List (2,1)"
   ]
  },
  {
   "cell_type": "code",
   "execution_count": 167,
   "metadata": {},
   "outputs": [
    {
     "name": "stdout",
     "output_type": "stream",
     "text": [
      "2000 (2000,)\n",
      "20 (20,)\n",
      "46500000 (46500000,)\n",
      "1705129550 (1705129550,)\n",
      "MNTRTGTvzmZUDMYuiPg62rY34jHuThGa8jdyTTx58mC\n",
      "(0,)\n",
      "11111111111111111111111111111111\n"
     ]
    }
   ],
   "source": [
    "space_x = 2\n",
    "space_y = 1\n",
    "price = 2000\n",
    "min_duration = 31000000\n",
    "max_duration = int(31000000*1.5)\n",
    "max_ts = int(time.time() + 2*min_duration)\n",
    "create = True\n",
    "\n",
    "outp, data = await set_rent(space_x, space_y, price, 20, max_duration, max_ts, create)"
   ]
  },
  {
   "cell_type": "code",
   "execution_count": null,
   "metadata": {},
   "outputs": [],
   "source": []
  },
  {
   "cell_type": "code",
   "execution_count": null,
   "metadata": {},
   "outputs": [],
   "source": []
  },
  {
   "cell_type": "markdown",
   "metadata": {},
   "source": [
    "## Test AcceptRent"
   ]
  },
  {
   "cell_type": "code",
   "execution_count": 155,
   "metadata": {},
   "outputs": [],
   "source": [
    "async def accept_rent(lessee, space_x, space_y, price, rent_time):\n",
    "    tx = Transaction()\n",
    "\n",
    "    rent_acc = PublicKey.find_program_address([\n",
    "                bytes(BASE),\n",
    "                RENT_ACCOUNT_SEED,\n",
    "                struct.pack(\"<q\",space_x),\n",
    "                struct.pack(\"<q\",space_y),\n",
    "              ], program_id = RENT_PROGRAM_ID)[0]\n",
    "\n",
    "    space_md = PublicKey.find_program_address([\n",
    "                bytes(BASE),\n",
    "                SPACE_METADATA_SEED,\n",
    "                struct.pack(\"<q\",space_x),\n",
    "                struct.pack(\"<q\",space_y),\n",
    "            ], program_id = SPACE_PROGRAM_ID)[0]\n",
    "\n",
    "    data = await solana_client.get_account_info(space_md)\n",
    "    mint = PublicKey(base64.b64decode(data['result']['value']['data'][0])[1:33])\n",
    "\n",
    "    ata_acc = get_associated_token_address(auth.public_key, mint)\n",
    "\n",
    "    keys = [\n",
    "            AccountMeta(BASE,False,False),\n",
    "            AccountMeta(rent_acc,False,True),\n",
    "            AccountMeta(lessee.public_key,True,True),\n",
    "            AccountMeta(auth.public_key,False,True),\n",
    "            AccountMeta(ata_acc,False,False),\n",
    "            AccountMeta(space_md,False,False),\n",
    "            AccountMeta(SYS_PROGRAM_PUBKEY,False,False),\n",
    "            ]\n",
    "\n",
    "    data = struct.pack(\"<BqqQQ\", 1, space_x, space_y, price, rent_time)\n",
    "   \n",
    "    tx.add(\n",
    "        TransactionInstruction(\n",
    "            keys = keys,\n",
    "            data = data,\n",
    "            program_id = RENT_PROGRAM_ID\n",
    "        )\n",
    "    )\n",
    "\n",
    "    signs = [lessee, auth]\n",
    "    txopts = TxOpts(skip_confirmation=False, skip_preflight=True)\n",
    "\n",
    "    outp = (await solana_client.send_transaction(tx, *signs, opts=txopts))\n",
    "\n",
    "    rent_acc_data = await solana_client.get_account_info(rent_acc)\n",
    "    rent_acc_data_bytes = base64.b64decode(rent_acc_data['result']['value']['data'][0])\n",
    "\n",
    "    price_state = struct.unpack(\"<Q\",rent_acc_data_bytes[1:9])\n",
    "    min_duration_state = struct.unpack(\"<Q\",rent_acc_data_bytes[9:17])\n",
    "    max_duration_state = struct.unpack(\"<Q\",rent_acc_data_bytes[17:25])\n",
    "    max_ts_state = struct.unpack(\"<Q\",rent_acc_data_bytes[25:33])\n",
    "    lister_state = PublicKey(rent_acc_data_bytes[33:65])\n",
    "    rent_end_state = struct.unpack(\"<Q\",rent_acc_data_bytes[65:73])\n",
    "    renter_state = PublicKey(rent_acc_data_bytes[73:105])\n",
    "\n",
    "    print(price, price_state)\n",
    "    print(min_duration, min_duration_state)\n",
    "    print(max_duration, max_duration_state)\n",
    "    print(max_ts, max_ts_state)\n",
    "    print(lister_state)\n",
    "    print(rent_end_state)\n",
    "    print(renter_state)\n",
    "\n",
    "    return outp, rent_acc_data_bytes"
   ]
  },
  {
   "cell_type": "code",
   "execution_count": 156,
   "metadata": {},
   "outputs": [],
   "source": [
    "sk = list(pd.read_json(f\"~/.config/solana/HoT_devnet.json\").values.flatten())\n",
    "renter = Keypair.from_secret_key(bytes(sk))"
   ]
  },
  {
   "cell_type": "markdown",
   "metadata": {},
   "source": [
    "### Rent (1,1) (delisted)"
   ]
  },
  {
   "cell_type": "code",
   "execution_count": 168,
   "metadata": {},
   "outputs": [
    {
     "name": "stderr",
     "output_type": "stream",
     "text": [
      "Transaction error: {'InstructionError': [0, 'InvalidInstructionData']}\n"
     ]
    },
    {
     "name": "stdout",
     "output_type": "stream",
     "text": [
      "1000 (0,)\n",
      "31000000 (0,)\n",
      "46500000 (0,)\n",
      "1705129550 (0,)\n",
      "MNTRTGTvzmZUDMYuiPg62rY34jHuThGa8jdyTTx58mC\n",
      "(0,)\n",
      "11111111111111111111111111111111\n"
     ]
    }
   ],
   "source": [
    "space_x = 1\n",
    "space_y = 1\n",
    "price = 1000\n",
    "rent_time = 2\n",
    "\n",
    "outp, data = await accept_rent(renter, space_x, space_y, price, rent_time)"
   ]
  },
  {
   "cell_type": "markdown",
   "metadata": {},
   "source": [
    "### Rent (2,1) but for low price"
   ]
  },
  {
   "cell_type": "code",
   "execution_count": 170,
   "metadata": {},
   "outputs": [
    {
     "name": "stderr",
     "output_type": "stream",
     "text": [
      "Transaction error: {'InstructionError': [0, 'InvalidInstructionData']}\n"
     ]
    },
    {
     "name": "stdout",
     "output_type": "stream",
     "text": [
      "100 (2000,)\n",
      "31000000 (20,)\n",
      "46500000 (46500000,)\n",
      "1705129550 (1705129550,)\n",
      "MNTRTGTvzmZUDMYuiPg62rY34jHuThGa8jdyTTx58mC\n",
      "(0,)\n",
      "11111111111111111111111111111111\n"
     ]
    }
   ],
   "source": [
    "space_x = 2\n",
    "space_y = 1\n",
    "price = 100\n",
    "rent_time = 200\n",
    "\n",
    "outp, data = await accept_rent(renter, space_x, space_y, price, rent_time)"
   ]
  },
  {
   "cell_type": "markdown",
   "metadata": {},
   "source": [
    "### Rent (2,1) but for time < min_duration"
   ]
  },
  {
   "cell_type": "code",
   "execution_count": 173,
   "metadata": {},
   "outputs": [
    {
     "name": "stderr",
     "output_type": "stream",
     "text": [
      "Transaction error: {'InstructionError': [0, 'InvalidInstructionData']}\n"
     ]
    },
    {
     "name": "stdout",
     "output_type": "stream",
     "text": [
      "2000 (2000,)\n",
      "31000000 (20,)\n",
      "46500000 (46500000,)\n",
      "1705129550 (1705129550,)\n",
      "MNTRTGTvzmZUDMYuiPg62rY34jHuThGa8jdyTTx58mC\n",
      "(0,)\n",
      "11111111111111111111111111111111\n"
     ]
    }
   ],
   "source": [
    "space_x = 2\n",
    "space_y = 1\n",
    "price = 2000\n",
    "rent_time = 2\n",
    "\n",
    "outp, data = await accept_rent(renter, space_x, space_y, price, rent_time)"
   ]
  },
  {
   "cell_type": "markdown",
   "metadata": {},
   "source": [
    "### Rent (2,1) but for time > max_duration"
   ]
  },
  {
   "cell_type": "code",
   "execution_count": 175,
   "metadata": {},
   "outputs": [
    {
     "name": "stderr",
     "output_type": "stream",
     "text": [
      "Transaction error: {'InstructionError': [0, 'InvalidInstructionData']}\n"
     ]
    },
    {
     "name": "stdout",
     "output_type": "stream",
     "text": [
      "2000 (2000,)\n",
      "31000000 (20,)\n",
      "46500000 (46500000,)\n",
      "1705129550 (1705129550,)\n",
      "MNTRTGTvzmZUDMYuiPg62rY34jHuThGa8jdyTTx58mC\n",
      "(0,)\n",
      "11111111111111111111111111111111\n"
     ]
    }
   ],
   "source": [
    "space_x = 2\n",
    "space_y = 1\n",
    "price = 2000\n",
    "rent_time = int(31000000*1.5)+1\n",
    "\n",
    "outp, data = await accept_rent(renter, space_x, space_y, price, rent_time)"
   ]
  },
  {
   "cell_type": "markdown",
   "metadata": {},
   "source": [
    "### Rent (2,1) for short time > min_duration--should succeed"
   ]
  },
  {
   "cell_type": "code",
   "execution_count": 177,
   "metadata": {},
   "outputs": [
    {
     "name": "stdout",
     "output_type": "stream",
     "text": [
      "2000 (2000,)\n",
      "31000000 (20,)\n",
      "46500000 (46500000,)\n",
      "1705129550 (1705129550,)\n",
      "MNTRTGTvzmZUDMYuiPg62rY34jHuThGa8jdyTTx58mC\n",
      "(1643129757,)\n",
      "HoTjGzCA3PErxEeNJHBxfJscr3MgGdfCVVjV5VuJcKYQ\n"
     ]
    }
   ],
   "source": [
    "space_x = 2\n",
    "space_y = 1\n",
    "price = 2000\n",
    "rent_time = 30\n",
    "\n",
    "outp, data = await accept_rent(renter, space_x, space_y, price, rent_time)"
   ]
  },
  {
   "cell_type": "markdown",
   "metadata": {},
   "source": [
    "### Rent (0,1) again immediately--should fail if done quickly enough"
   ]
  },
  {
   "cell_type": "code",
   "execution_count": 178,
   "metadata": {},
   "outputs": [
    {
     "name": "stderr",
     "output_type": "stream",
     "text": [
      "Transaction error: {'InstructionError': [0, 'InvalidInstructionData']}\n"
     ]
    },
    {
     "name": "stdout",
     "output_type": "stream",
     "text": [
      "2000 (2000,)\n",
      "31000000 (20,)\n",
      "46500000 (46500000,)\n",
      "1705129550 (1705129084,)\n",
      "MNTRTGTvzmZUDMYuiPg62rY34jHuThGa8jdyTTx58mC\n",
      "(15920292505471328761,)\n",
      "7nXZV1pJ1qpoC8hZABSMj5PNpYhATqLffSvMRK5r9WMM\n"
     ]
    }
   ],
   "source": [
    "space_x = 0\n",
    "space_y = 1\n",
    "price = 2000\n",
    "rent_time = 30\n",
    "\n",
    "outp, data = await accept_rent(renter, space_x, space_y, price, rent_time)"
   ]
  },
  {
   "cell_type": "code",
   "execution_count": null,
   "metadata": {},
   "outputs": [],
   "source": []
  }
 ],
 "metadata": {
  "kernelspec": {
   "display_name": "Python 3",
   "language": "python",
   "name": "python3"
  },
  "language_info": {
   "codemirror_mode": {
    "name": "ipython",
    "version": 3
   },
   "file_extension": ".py",
   "mimetype": "text/x-python",
   "name": "python",
   "nbconvert_exporter": "python",
   "pygments_lexer": "ipython3",
   "version": "3.8.3"
  },
  "orig_nbformat": 4
 },
 "nbformat": 4,
 "nbformat_minor": 2
}
